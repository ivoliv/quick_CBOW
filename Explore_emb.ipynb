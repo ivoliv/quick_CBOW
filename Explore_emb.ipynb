{
 "cells": [
  {
   "cell_type": "markdown",
   "metadata": {},
   "source": [
    "# Import packages"
   ]
  },
  {
   "cell_type": "code",
   "execution_count": 4,
   "metadata": {},
   "outputs": [],
   "source": [
    "from em_spacy_cbow import *\n",
    "import torch\n",
    "from utils import *"
   ]
  },
  {
   "cell_type": "markdown",
   "metadata": {},
   "source": [
    "# Set paramters / options"
   ]
  },
  {
   "cell_type": "code",
   "execution_count": 5,
   "metadata": {},
   "outputs": [],
   "source": [
    "CONTEXT_SIZE = 2\n",
    "EMBEDDING_DIM = 20\n",
    "\n",
    "CORPUS_URL = 'https://www.gutenberg.org/files/11/11-0.txt'\n",
    "CORPUS_START = 752\n",
    "CORPUS_SIZE = 10000\n",
    "EPOCHS = 200"
   ]
  },
  {
   "cell_type": "markdown",
   "metadata": {},
   "source": [
    "## Check GPU availability\n",
    "GPUs don't seem to do a lot to help here..."
   ]
  },
  {
   "cell_type": "code",
   "execution_count": 6,
   "metadata": {},
   "outputs": [],
   "source": [
    "device = torch.device('cpu')\n",
    "if torch.cuda.is_available():\n",
    "    print('CUDA found')\n",
    "    device = torch.device('cuda:0')"
   ]
  },
  {
   "cell_type": "markdown",
   "metadata": {},
   "source": [
    "## Read and optimize model"
   ]
  },
  {
   "cell_type": "code",
   "execution_count": 7,
   "metadata": {},
   "outputs": [
    {
     "name": "stdout",
     "output_type": "stream",
     "text": [
      "Size of corpus: 1682\n",
      "Number of words (lemmas): 471\n"
     ]
    }
   ],
   "source": [
    "model, data, word_to_ix, ix_to_word = read_and_setup(CORPUS_URL, CORPUS_START, CORPUS_SIZE,\n",
    "                                                     CONTEXT_SIZE, EMBEDDING_DIM, device)"
   ]
  },
  {
   "cell_type": "code",
   "execution_count": 8,
   "metadata": {},
   "outputs": [
    {
     "name": "stderr",
     "output_type": "stream",
     "text": [
      "100%|██████████| 200/200 [02:43<00:00,  1.22it/s]\n"
     ]
    },
    {
     "data": {
      "text/plain": [
       "<Figure size 640x480 with 1 Axes>"
      ]
     },
     "metadata": {},
     "output_type": "display_data"
    }
   ],
   "source": [
    "model, losses = optimize(model, data, word_to_ix, device, EPOCHS)"
   ]
  },
  {
   "cell_type": "code",
   "execution_count": 10,
   "metadata": {},
   "outputs": [
    {
     "data": {
      "image/png": "[encoded data removed]",
      "text/plain": [
       "<Figure size 432x288 with 1 Axes>"
      ]
     },
     "metadata": {},
     "output_type": "display_data"
    }
   ],
   "source": [
    "plot_losses(losses)"
   ]
  },
  {
   "cell_type": "markdown",
   "metadata": {},
   "source": [
    "## Outputs"
   ]
  },
  {
   "cell_type": "code",
   "execution_count": 11,
   "metadata": {},
   "outputs": [
    {
     "name": "stdout",
     "output_type": "stream",
     "text": [
      "['chapter', 'i.', 'the', 'rabbit'] down (218, 'down') \n",
      "['i.', 'down', 'rabbit', 'hole'] the (87, 'the') \n",
      "['down', 'the', 'hole', 'alice'] rabbit (34, 'rabbit') \n",
      "['the', 'rabbit', 'alice', 'be'] hole (75, 'hole') \n",
      "['rabbit', 'hole', 'be', 'begin'] alice (391, 'alice') \n",
      "['hole', 'alice', 'begin', 'get'] be (146, 'be') \n",
      "['alice', 'be', 'get', 'very'] begin (329, 'begin') \n",
      "['be', 'begin', 'very', 'tired'] get (303, 'get') \n",
      "['begin', 'get', 'tired', 'of'] very (210, 'very') \n",
      "['get', 'very', 'of', 'sit'] tired (166, 'tired') \n"
     ]
    }
   ],
   "source": [
    "text_head(10, data, model, word_to_ix, ix_to_word, device)"
   ]
  },
  {
   "cell_type": "code",
   "execution_count": null,
   "metadata": {},
   "outputs": [],
   "source": []
  }
 ],
 "metadata": {
  "kernelspec": {
   "display_name": "Python 3",
   "language": "python",
   "name": "python3"
  },
  "language_info": {
   "codemirror_mode": {
    "name": "ipython",
    "version": 3
   },
   "file_extension": ".py",
   "mimetype": "text/x-python",
   "name": "python",
   "nbconvert_exporter": "python",
   "pygments_lexer": "ipython3",
   "version": "3.6.6"
  }
 },
 "nbformat": 4,
 "nbformat_minor": 2
}
